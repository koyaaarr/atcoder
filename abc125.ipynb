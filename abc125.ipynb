{
 "cells": [
  {
   "cell_type": "code",
   "execution_count": null,
   "metadata": {},
   "outputs": [],
   "source": []
  },
  {
   "cell_type": "code",
   "execution_count": null,
   "metadata": {},
   "outputs": [],
   "source": []
  },
  {
   "cell_type": "code",
   "execution_count": null,
   "metadata": {},
   "outputs": [],
   "source": []
  },
  {
   "cell_type": "code",
   "execution_count": null,
   "metadata": {},
   "outputs": [],
   "source": []
  },
  {
   "cell_type": "code",
   "execution_count": 75,
   "metadata": {},
   "outputs": [],
   "source": [
    "# abc125 b"
   ]
  },
  {
   "cell_type": "code",
   "execution_count": 78,
   "metadata": {},
   "outputs": [
    {
     "name": "stdin",
     "output_type": "stream",
     "text": [
      " 4\n",
      " 13 21 6 19\n",
      " 11 30 6 15\n"
     ]
    },
    {
     "name": "stdout",
     "output_type": "stream",
     "text": [
      "6\n"
     ]
    }
   ],
   "source": [
    "n=int(input())\n",
    "Vs=list(map(int, list(input().split())))\n",
    "Cs=list(map(int, list(input().split())))\n",
    "S=0\n",
    "for i in range(n):\n",
    "    if Vs[i] > Cs[i]:\n",
    "        S +=Vs[i]-Cs[i]\n",
    "print(S)"
   ]
  },
  {
   "cell_type": "code",
   "execution_count": 1,
   "metadata": {},
   "outputs": [],
   "source": [
    "# abc126 a"
   ]
  },
  {
   "cell_type": "code",
   "execution_count": 11,
   "metadata": {},
   "outputs": [
    {
     "name": "stdin",
     "output_type": "stream",
     "text": [
      " 3 5 7\n"
     ]
    },
    {
     "name": "stdout",
     "output_type": "stream",
     "text": [
      "10\n"
     ]
    }
   ],
   "source": [
    "a,b,t=list(map(int, list(input().split())))\n",
    "print(int(t/a)*b)"
   ]
  },
  {
   "cell_type": "code",
   "execution_count": 12,
   "metadata": {},
   "outputs": [],
   "source": [
    "# abc126 b"
   ]
  },
  {
   "cell_type": "code",
   "execution_count": 14,
   "metadata": {},
   "outputs": [
    {
     "name": "stdin",
     "output_type": "stream",
     "text": [
      " 4 40 60\n"
     ]
    },
    {
     "name": "stdout",
     "output_type": "stream",
     "text": [
      "200\n",
      "760\n",
      "3000\n",
      "11960\n",
      "47800\n",
      "191160\n",
      "764600\n",
      "3058360\n",
      "12233400\n",
      "48933560\n"
     ]
    }
   ],
   "source": [
    "r,d,x=list(map(int, list(input().split())))\n",
    "for i in range(10):\n",
    "    x = r*x-d\n",
    "    print(x)"
   ]
  },
  {
   "cell_type": "code",
   "execution_count": 24,
   "metadata": {},
   "outputs": [],
   "source": [
    "# abc126 b"
   ]
  },
  {
   "cell_type": "code",
   "execution_count": 20,
   "metadata": {},
   "outputs": [
    {
     "data": {
      "text/plain": [
       "['01', '02', '03', '04', '05', '06', '07', '08', '09', '10', '11', '12']"
      ]
     },
     "execution_count": 20,
     "metadata": {},
     "output_type": "execute_result"
    }
   ],
   "source": [
    "ym=input()\n",
    "y=ym[:2]\n",
    "m=ym[2:]\n",
    "ys=[str(i).zfill(2) for i in range(100)]\n",
    "ms=[str(i).zfill(2) for i in range(1,13)]\n",
    "if (y in ys) and (m in ms) and (y in ms) and (m in ys):\n",
    "    print('AMBIGUOUS')\n",
    "elif y in ms and m in ys:\n",
    "    print('MMYY')\n",
    "elif y in ys and m in ms:\n",
    "    print('YYMM')\n",
    "else:\n",
    "    print('NA')"
   ]
  },
  {
   "cell_type": "code",
   "execution_count": 25,
   "metadata": {},
   "outputs": [],
   "source": [
    "# abc129 b"
   ]
  },
  {
   "cell_type": "code",
   "execution_count": 41,
   "metadata": {},
   "outputs": [
    {
     "name": "stdin",
     "output_type": "stream",
     "text": [
      " 2\n",
      " 27 23 76 2 3 5 62 52\n"
     ]
    },
    {
     "name": "stdout",
     "output_type": "stream",
     "text": [
      "[196, 150, 2, 6, 12, 22, 146]\n",
      "2\n"
     ]
    }
   ],
   "source": [
    "n=input()\n",
    "ws=list(map(int, list(input().split())))\n",
    "wsi=[]\n",
    "for i in range(len(ws)-1):\n",
    "    wsi.append(abs(sum(ws[:i+1])-sum(ws[i+1:])))\n",
    "print(min(wsi))"
   ]
  },
  {
   "cell_type": "code",
   "execution_count": 42,
   "metadata": {},
   "outputs": [],
   "source": [
    "# abc130 b"
   ]
  },
  {
   "cell_type": "code",
   "execution_count": 60,
   "metadata": {},
   "outputs": [
    {
     "name": "stdin",
     "output_type": "stream",
     "text": [
      " 4 9\n",
      " 3 3 3 3\n"
     ]
    },
    {
     "name": "stdout",
     "output_type": "stream",
     "text": [
      "4\n"
     ]
    }
   ],
   "source": [
    "n,x=list(map(int, list(input().split())))\n",
    "Ls=list(map(int, list(input().split())))\n",
    "t=1\n",
    "for i in range(n):\n",
    "    if sum(Ls[:i+1]) > x:\n",
    "        break\n",
    "    t+=1\n",
    "print(t)"
   ]
  },
  {
   "cell_type": "code",
   "execution_count": 61,
   "metadata": {},
   "outputs": [],
   "source": [
    "# abc131 b"
   ]
  },
  {
   "cell_type": "code",
   "execution_count": 74,
   "metadata": {},
   "outputs": [
    {
     "name": "stdin",
     "output_type": "stream",
     "text": [
      " 30 -50\n"
     ]
    },
    {
     "name": "stdout",
     "output_type": "stream",
     "text": [
      "-1044\n"
     ]
    }
   ],
   "source": [
    "N,L=list(map(int, list(input().split())))\n",
    "N=[i+1 for i in range(N)]\n",
    "F=[i+L-1 for i in N]\n",
    "Fmin=min(map(abs, F))\n",
    "f=[i for i in F if abs(i) != Fmin]\n",
    "print(sum(f))"
   ]
  },
  {
   "cell_type": "code",
   "execution_count": null,
   "metadata": {},
   "outputs": [],
   "source": []
  }
 ],
 "metadata": {
  "kernelspec": {
   "display_name": "Python 3",
   "language": "python",
   "name": "python3"
  },
  "language_info": {
   "codemirror_mode": {
    "name": "ipython",
    "version": 3
   },
   "file_extension": ".py",
   "mimetype": "text/x-python",
   "name": "python",
   "nbconvert_exporter": "python",
   "pygments_lexer": "ipython3",
   "version": "3.7.3"
  }
 },
 "nbformat": 4,
 "nbformat_minor": 2
}
